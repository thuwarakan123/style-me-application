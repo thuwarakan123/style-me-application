{
  "nbformat": 4,
  "nbformat_minor": 0,
  "metadata": {
    "colab": {
      "provenance": [],
      "gpuType": "T4"
    },
    "kernelspec": {
      "name": "python3",
      "display_name": "Python 3"
    },
    "language_info": {
      "name": "python"
    },
    "accelerator": "GPU",
    "gpuClass": "standard"
  },
  "cells": [
    {
      "cell_type": "code",
      "execution_count": null,
      "metadata": {
        "id": "g7RLTzP5SS-p"
      },
      "outputs": [],
      "source": [
        "import tensorflow as tf\n",
        "from tensorflow.keras.layers import Input, Dense, Flatten\n",
        "from tensorflow.keras.models import Model\n",
        "from tensorflow.keras.optimizers import Adam\n",
        "from tensorflow.keras.preprocessing.image import ImageDataGenerator\n",
        "from tensorflow.keras.applications import RegNetX"
      ]
    },
    {
      "cell_type": "code",
      "source": [
        "train_path = '/content/drive/MyDrive/DataSet/PreprocessedFaceShapeDataset/train'\n",
        "testing_path = '/content/drive/MyDrive/DataSet/PreprocessedFaceShapeDataset/test'\n",
        "\n",
        "train_datagen = ImageDataGenerator(\n",
        "    rescale=1./255,\n",
        "    rotation_range=10,\n",
        "    horizontal_flip=True\n",
        ")\n",
        "\n",
        "test_datagen = ImageDataGenerator(rescale=1./255)\n",
        "\n",
        "train_generator = train_datagen.flow_from_directory(\n",
        "    train_path,\n",
        "    target_size=(224, 224),\n",
        "    batch_size=32,\n",
        "    class_mode='categorical'\n",
        ")\n",
        "\n",
        "test_generator = test_datagen.flow_from_directory(\n",
        "    testing_path,\n",
        "    target_size=(224, 224),\n",
        "    batch_size=32,\n",
        "    class_mode='categorical'\n",
        ")"
      ],
      "metadata": {
        "id": "9SQLFLNRSir-"
      },
      "execution_count": null,
      "outputs": []
    },
    {
      "cell_type": "code",
      "source": [
        "input_tensor = Input(shape=(224, 224, 3))\n",
        "base_model = RegNetX(input_tensor=input_tensor, include_top=False, weights='imagenet')\n",
        "x = Flatten()(base_model.output)\n",
        "output_tensor = Dense(5, activation='softmax')(x)\n",
        "model = Model(inputs=input_tensor, outputs=output_tensor)\n",
        "\n",
        "loss = 'categorical_crossentropy'\n",
        "optimizer = Adam(lr=1e-4)\n",
        "\n",
        "model.compile(loss=loss, optimizer=optimizer, metrics=['accuracy'])"
      ],
      "metadata": {
        "id": "FvQT9eTjS3dW"
      },
      "execution_count": null,
      "outputs": []
    },
    {
      "cell_type": "code",
      "source": [
        "history = model.fit(\n",
        "    train_generator,\n",
        "    steps_per_epoch=len(train_generator),\n",
        "    epochs=10,\n",
        "    validation_data=test_generator,\n",
        "    validation_steps=len(test_generator)\n",
        ")"
      ],
      "metadata": {
        "id": "lZGt8iWHS-qR"
      },
      "execution_count": null,
      "outputs": []
    }
  ]
}