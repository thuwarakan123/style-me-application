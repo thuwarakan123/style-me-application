{
  "nbformat": 4,
  "nbformat_minor": 0,
  "metadata": {
    "colab": {
      "provenance": [],
      "gpuType": "T4"
    },
    "kernelspec": {
      "name": "python3",
      "display_name": "Python 3"
    },
    "language_info": {
      "name": "python"
    },
    "accelerator": "GPU",
    "gpuClass": "standard"
  },
  "cells": [
    {
      "cell_type": "code",
      "execution_count": null,
      "metadata": {
        "id": "ASTHgX5HYiDT"
      },
      "outputs": [],
      "source": [
        "import tensorflow as tf\n",
        "from tensorflow.keras.applications import EfficientNetV2M\n",
        "from tensorflow.keras.callbacks import ModelCheckpoint, ReduceLROnPlateau, EarlyStopping\n",
        "from tensorflow.keras.layers import Dense, GlobalAveragePooling2D\n",
        "from tensorflow.keras.models import Model\n",
        "from tensorflow.keras.preprocessing.image import ImageDataGenerator"
      ]
    },
    {
      "cell_type": "code",
      "source": [
        "# Define input image size\n",
        "input_size = (224, 224)\n",
        "\n",
        "# Load pre-trained EfficientNetV2M model\n",
        "base_model = EfficientNetV2M(input_shape=(input_size[0], input_size[1], 3), include_top=False, weights='imagenet')"
      ],
      "metadata": {
        "id": "fE47I1rAZpJ8"
      },
      "execution_count": null,
      "outputs": []
    },
    {
      "cell_type": "code",
      "source": [
        "# Add global average pooling and dense output layers\n",
        "x = base_model.output\n",
        "x = GlobalAveragePooling2D()(x)\n",
        "x = Dense(256, activation='relu')(x) # Add additional dense layer for feature extraction\n",
        "predictions = Dense(2, activation='softmax')(x) # Output layer with 5 classes for face shapes"
      ],
      "metadata": {
        "id": "C8CsC9ADZwbW"
      },
      "execution_count": null,
      "outputs": []
    },
    {
      "cell_type": "code",
      "source": [
        "# Create the model\n",
        "model = Model(inputs=base_model.input, outputs=predictions)"
      ],
      "metadata": {
        "id": "Hkqi1s4VZz7I"
      },
      "execution_count": null,
      "outputs": []
    },
    {
      "cell_type": "code",
      "source": [
        "model.compile(optimizer='adam', loss='categorical_crossentropy', metrics=['accuracy'])"
      ],
      "metadata": {
        "id": "vd0xb60mZ7gS"
      },
      "execution_count": null,
      "outputs": []
    },
    {
      "cell_type": "code",
      "source": [
        "# Define a callback to save the model with the highest validation accuracy\n",
        "checkpoint = ModelCheckpoint('face_shape_model.h5', monitor='val_accuracy', save_best_only=True, mode='max', verbose=1)"
      ],
      "metadata": {
        "id": "H4yr2IcKZ8Jv"
      },
      "execution_count": null,
      "outputs": []
    },
    {
      "cell_type": "code",
      "source": [
        "# Defining model file name\n",
        "filePath ='EfficientNetV2-M'+ '_BestModel.h5'\n",
        "\n",
        "# Defining model checkpoint for saving best model\n",
        "bestModelCheckpoint = ModelCheckpoint(filePath, monitor='val_loss', verbose=1, save_best_only=True, save_weights_only=False, mode='auto', period=1)\n",
        "\n",
        "# Defining decaying learning rate callback\n",
        "decayLR = ReduceLROnPlateau(monitor='val_loss', factor=0.2, verbose=1, patience=3)\n",
        "\n",
        "# Defining early stopping callback\n",
        "earlystopCheckpoint = EarlyStopping(monitor=\"val_loss\", min_delta=0, patience=9, verbose=1)\n",
        "\n",
        "# Preparing list of all callbacks\n",
        "callbacksList = [bestModelCheckpoint, decayLR, earlystopCheckpoint]"
      ],
      "metadata": {
        "id": "9fm846lhzlTv"
      },
      "execution_count": null,
      "outputs": []
    },
    {
      "cell_type": "code",
      "source": [
        "train_datagen = ImageDataGenerator(\n",
        "    rescale=1./255, # Normalize pixel values\n",
        "    rotation_range=20, # Rotate images randomly within a range of 20 degrees\n",
        "    width_shift_range=0.1, # Shift images horizontally by a maximum of 10% of the image width\n",
        "    height_shift_range=0.1, # Shift images vertically by a maximum of 10% of the image height\n",
        "    horizontal_flip=True, # Flip images horizontally randomly\n",
        "    vertical_flip=False, # Do not flip images vertically\n",
        ")\n",
        "\n",
        "valid_datagen = ImageDataGenerator(\n",
        "    rescale=1./255, # Normalize pixel values\n",
        ")\n"
      ],
      "metadata": {
        "id": "rJUP8645aLe8"
      },
      "execution_count": null,
      "outputs": []
    },
    {
      "cell_type": "code",
      "source": [
        "train_generator = train_datagen.flow_from_directory(\n",
        "    \"/content/drive/MyDrive/DataSet/GenderDetectionFace/train\", # Path to training data\n",
        "    target_size=input_size,\n",
        "    batch_size=32,\n",
        "    class_mode='categorical'# Use 80% of data for training\n",
        ")\n",
        "\n",
        "validation_generator = valid_datagen.flow_from_directory(\n",
        "    \"/content/drive/MyDrive/DataSet/GenderDetectionFace/valid\", # Path to training data\n",
        "    target_size=input_size,\n",
        "    batch_size=32,\n",
        "    class_mode='categorical'# Use 20% of data for validation\n",
        ")"
      ],
      "metadata": {
        "id": "Kc92d3W82DlN"
      },
      "execution_count": null,
      "outputs": []
    },
    {
      "cell_type": "code",
      "source": [
        "from google.colab import drive\n",
        "drive.mount('/content/drive')"
      ],
      "metadata": {
        "id": "jk6Ay7CX671e"
      },
      "execution_count": null,
      "outputs": []
    },
    {
      "cell_type": "code",
      "source": [
        "# Train the model with the callback\n",
        "model.fit(\n",
        "    train_generator,\n",
        "    steps_per_epoch=train_generator.samples // train_generator.batch_size,\n",
        "    epochs=100, # Number of training epochs\n",
        "    validation_data=validation_generator,\n",
        "    validation_steps=validation_generator.samples // validation_generator.batch_size,\n",
        "    callbacks=[callbacksList] # Add the callback to the training process\n",
        ")"
      ],
      "metadata": {
        "colab": {
          "base_uri": "https://localhost:8080/"
        },
        "id": "RLbpc6NZaZsh",
        "outputId": "eb013bfe-9267-42f7-9816-374ac63a9cad"
      },
      "execution_count": null,
      "outputs": [
        {
          "output_type": "stream",
          "name": "stdout",
          "text": [
            "Epoch 1/100\n",
            "50/50 [==============================] - ETA: 0s - loss: 0.3162 - accuracy: 0.8775\n",
            "Epoch 1: val_loss improved from inf to 0.88180, saving model to EfficientNetV2-M_BestModel.h5\n",
            "50/50 [==============================] - 699s 11s/step - loss: 0.3162 - accuracy: 0.8775 - val_loss: 0.8818 - val_accuracy: 0.4969 - lr: 0.0010\n",
            "Epoch 2/100\n",
            "50/50 [==============================] - ETA: 0s - loss: 0.1164 - accuracy: 0.9531\n",
            "Epoch 2: val_loss improved from 0.88180 to 0.70349, saving model to EfficientNetV2-M_BestModel.h5\n",
            "50/50 [==============================] - 52s 1s/step - loss: 0.1164 - accuracy: 0.9531 - val_loss: 0.7035 - val_accuracy: 0.5344 - lr: 0.0010\n",
            "Epoch 3/100\n",
            "50/50 [==============================] - ETA: 0s - loss: 0.0913 - accuracy: 0.9694\n",
            "Epoch 3: val_loss did not improve from 0.70349\n",
            "50/50 [==============================] - 48s 943ms/step - loss: 0.0913 - accuracy: 0.9694 - val_loss: 0.9670 - val_accuracy: 0.4969 - lr: 0.0010\n",
            "Epoch 4/100\n",
            "50/50 [==============================] - ETA: 0s - loss: 0.0703 - accuracy: 0.9769\n",
            "Epoch 4: val_loss improved from 0.70349 to 0.56557, saving model to EfficientNetV2-M_BestModel.h5\n",
            "50/50 [==============================] - 51s 1s/step - loss: 0.0703 - accuracy: 0.9769 - val_loss: 0.5656 - val_accuracy: 0.6719 - lr: 0.0010\n",
            "Epoch 5/100\n",
            "50/50 [==============================] - ETA: 0s - loss: 0.0774 - accuracy: 0.9725\n",
            "Epoch 5: val_loss did not improve from 0.56557\n",
            "50/50 [==============================] - 48s 949ms/step - loss: 0.0774 - accuracy: 0.9725 - val_loss: 0.6284 - val_accuracy: 0.6406 - lr: 0.0010\n",
            "Epoch 6/100\n",
            "50/50 [==============================] - ETA: 0s - loss: 0.0666 - accuracy: 0.9744\n",
            "Epoch 6: val_loss did not improve from 0.56557\n",
            "50/50 [==============================] - 48s 949ms/step - loss: 0.0666 - accuracy: 0.9744 - val_loss: 1.7157 - val_accuracy: 0.5094 - lr: 0.0010\n",
            "Epoch 7/100\n",
            "50/50 [==============================] - ETA: 0s - loss: 0.0441 - accuracy: 0.9881\n",
            "Epoch 7: val_loss did not improve from 0.56557\n",
            "\n",
            "Epoch 7: ReduceLROnPlateau reducing learning rate to 0.00020000000949949026.\n",
            "50/50 [==============================] - 48s 952ms/step - loss: 0.0441 - accuracy: 0.9881 - val_loss: 0.8167 - val_accuracy: 0.4906 - lr: 0.0010\n",
            "Epoch 8/100\n",
            "50/50 [==============================] - ETA: 0s - loss: 0.0322 - accuracy: 0.9869\n",
            "Epoch 8: val_loss improved from 0.56557 to 0.15252, saving model to EfficientNetV2-M_BestModel.h5\n",
            "50/50 [==============================] - 52s 1s/step - loss: 0.0322 - accuracy: 0.9869 - val_loss: 0.1525 - val_accuracy: 0.9344 - lr: 2.0000e-04\n",
            "Epoch 9/100\n",
            "50/50 [==============================] - ETA: 0s - loss: 0.0201 - accuracy: 0.9906\n",
            "Epoch 9: val_loss improved from 0.15252 to 0.13234, saving model to EfficientNetV2-M_BestModel.h5\n",
            "50/50 [==============================] - 51s 1s/step - loss: 0.0201 - accuracy: 0.9906 - val_loss: 0.1323 - val_accuracy: 0.9500 - lr: 2.0000e-04\n",
            "Epoch 10/100\n",
            "50/50 [==============================] - ETA: 0s - loss: 0.0091 - accuracy: 0.9981\n",
            "Epoch 10: val_loss did not improve from 0.13234\n",
            "50/50 [==============================] - 48s 963ms/step - loss: 0.0091 - accuracy: 0.9981 - val_loss: 0.1886 - val_accuracy: 0.9375 - lr: 2.0000e-04\n",
            "Epoch 11/100\n",
            "50/50 [==============================] - ETA: 0s - loss: 0.0108 - accuracy: 0.9969\n",
            "Epoch 11: val_loss improved from 0.13234 to 0.10496, saving model to EfficientNetV2-M_BestModel.h5\n",
            "50/50 [==============================] - 51s 1s/step - loss: 0.0108 - accuracy: 0.9969 - val_loss: 0.1050 - val_accuracy: 0.9531 - lr: 2.0000e-04\n",
            "Epoch 12/100\n",
            "50/50 [==============================] - ETA: 0s - loss: 0.0082 - accuracy: 0.9975\n",
            "Epoch 12: val_loss did not improve from 0.10496\n",
            "50/50 [==============================] - 48s 957ms/step - loss: 0.0082 - accuracy: 0.9975 - val_loss: 0.1058 - val_accuracy: 0.9656 - lr: 2.0000e-04\n",
            "Epoch 13/100\n",
            "50/50 [==============================] - ETA: 0s - loss: 0.0042 - accuracy: 0.9994\n",
            "Epoch 13: val_loss did not improve from 0.10496\n",
            "50/50 [==============================] - 47s 932ms/step - loss: 0.0042 - accuracy: 0.9994 - val_loss: 0.1229 - val_accuracy: 0.9625 - lr: 2.0000e-04\n",
            "Epoch 14/100\n",
            "50/50 [==============================] - ETA: 0s - loss: 0.0076 - accuracy: 0.9975\n",
            "Epoch 14: val_loss did not improve from 0.10496\n",
            "\n",
            "Epoch 14: ReduceLROnPlateau reducing learning rate to 4.0000001899898055e-05.\n",
            "50/50 [==============================] - 48s 951ms/step - loss: 0.0076 - accuracy: 0.9975 - val_loss: 0.2272 - val_accuracy: 0.9250 - lr: 2.0000e-04\n",
            "Epoch 15/100\n",
            "50/50 [==============================] - ETA: 0s - loss: 0.0049 - accuracy: 0.9987\n",
            "Epoch 15: val_loss did not improve from 0.10496\n",
            "50/50 [==============================] - 47s 940ms/step - loss: 0.0049 - accuracy: 0.9987 - val_loss: 0.1445 - val_accuracy: 0.9656 - lr: 4.0000e-05\n",
            "Epoch 16/100\n",
            "50/50 [==============================] - ETA: 0s - loss: 0.0076 - accuracy: 0.9981\n",
            "Epoch 16: val_loss improved from 0.10496 to 0.10427, saving model to EfficientNetV2-M_BestModel.h5\n",
            "50/50 [==============================] - 51s 1s/step - loss: 0.0076 - accuracy: 0.9981 - val_loss: 0.1043 - val_accuracy: 0.9719 - lr: 4.0000e-05\n",
            "Epoch 17/100\n",
            "50/50 [==============================] - ETA: 0s - loss: 0.0043 - accuracy: 0.9981\n",
            "Epoch 17: val_loss did not improve from 0.10427\n",
            "50/50 [==============================] - 48s 947ms/step - loss: 0.0043 - accuracy: 0.9981 - val_loss: 0.1311 - val_accuracy: 0.9719 - lr: 4.0000e-05\n",
            "Epoch 18/100\n",
            "50/50 [==============================] - ETA: 0s - loss: 0.0050 - accuracy: 0.9981\n",
            "Epoch 18: val_loss did not improve from 0.10427\n",
            "50/50 [==============================] - 47s 943ms/step - loss: 0.0050 - accuracy: 0.9981 - val_loss: 0.1399 - val_accuracy: 0.9688 - lr: 4.0000e-05\n",
            "Epoch 19/100\n",
            "50/50 [==============================] - ETA: 0s - loss: 0.0033 - accuracy: 0.9987\n",
            "Epoch 19: val_loss did not improve from 0.10427\n",
            "\n",
            "Epoch 19: ReduceLROnPlateau reducing learning rate to 8.000000525498762e-06.\n",
            "50/50 [==============================] - 48s 949ms/step - loss: 0.0033 - accuracy: 0.9987 - val_loss: 0.1579 - val_accuracy: 0.9719 - lr: 4.0000e-05\n",
            "Epoch 20/100\n",
            "50/50 [==============================] - ETA: 0s - loss: 0.0041 - accuracy: 0.9981\n",
            "Epoch 20: val_loss did not improve from 0.10427\n",
            "50/50 [==============================] - 48s 949ms/step - loss: 0.0041 - accuracy: 0.9981 - val_loss: 0.1325 - val_accuracy: 0.9719 - lr: 8.0000e-06\n",
            "Epoch 21/100\n",
            "50/50 [==============================] - ETA: 0s - loss: 0.0022 - accuracy: 0.9994\n",
            "Epoch 21: val_loss did not improve from 0.10427\n",
            "50/50 [==============================] - 48s 952ms/step - loss: 0.0022 - accuracy: 0.9994 - val_loss: 0.1475 - val_accuracy: 0.9719 - lr: 8.0000e-06\n",
            "Epoch 22/100\n",
            "50/50 [==============================] - ETA: 0s - loss: 0.0015 - accuracy: 0.9994\n",
            "Epoch 22: val_loss did not improve from 0.10427\n",
            "\n",
            "Epoch 22: ReduceLROnPlateau reducing learning rate to 1.6000001778593287e-06.\n",
            "50/50 [==============================] - 47s 939ms/step - loss: 0.0015 - accuracy: 0.9994 - val_loss: 0.1357 - val_accuracy: 0.9719 - lr: 8.0000e-06\n",
            "Epoch 23/100\n",
            "50/50 [==============================] - ETA: 0s - loss: 0.0027 - accuracy: 0.9987\n",
            "Epoch 23: val_loss did not improve from 0.10427\n",
            "50/50 [==============================] - 48s 946ms/step - loss: 0.0027 - accuracy: 0.9987 - val_loss: 0.1542 - val_accuracy: 0.9688 - lr: 1.6000e-06\n",
            "Epoch 24/100\n",
            "50/50 [==============================] - ETA: 0s - loss: 0.0013 - accuracy: 1.0000\n",
            "Epoch 24: val_loss did not improve from 0.10427\n",
            "50/50 [==============================] - 48s 949ms/step - loss: 0.0013 - accuracy: 1.0000 - val_loss: 0.1517 - val_accuracy: 0.9688 - lr: 1.6000e-06\n",
            "Epoch 25/100\n",
            "50/50 [==============================] - ETA: 0s - loss: 0.0033 - accuracy: 0.9994\n",
            "Epoch 25: val_loss did not improve from 0.10427\n",
            "\n",
            "Epoch 25: ReduceLROnPlateau reducing learning rate to 3.200000264769187e-07.\n",
            "50/50 [==============================] - 47s 937ms/step - loss: 0.0033 - accuracy: 0.9994 - val_loss: 0.1312 - val_accuracy: 0.9719 - lr: 1.6000e-06\n",
            "Epoch 25: early stopping\n"
          ]
        },
        {
          "output_type": "execute_result",
          "data": {
            "text/plain": [
              "<keras.callbacks.History at 0x7f0c9838e670>"
            ]
          },
          "metadata": {},
          "execution_count": 11
        }
      ]
    },
    {
      "cell_type": "code",
      "source": [
        "from tensorflow.keras.models import load_model\n",
        "\n",
        "modelMy = load_model('/content/drive/MyDrive/Dataset/gender_classification_model_EfficientNetV2M_Version_01.h5')"
      ],
      "metadata": {
        "id": "tkJNKe4crgis"
      },
      "execution_count": null,
      "outputs": []
    },
    {
      "cell_type": "code",
      "source": [
        "# Data augmentation for testing\n",
        "test_datagen = ImageDataGenerator(\n",
        "    rescale=1./255 # Normalize pixel values\n",
        ")"
      ],
      "metadata": {
        "id": "60r68Ws5r03_"
      },
      "execution_count": null,
      "outputs": []
    },
    {
      "cell_type": "code",
      "source": [
        "test_generator = test_datagen.flow_from_directory(\n",
        "    \"/content/drive/MyDrive/DataSet/GenderDetectionFace/test\", # Path to test data\n",
        "    target_size=(224, 224),\n",
        "    batch_size=32,\n",
        "    class_mode='categorical',\n",
        "    shuffle=False # Do not shuffle the test data\n",
        ")"
      ],
      "metadata": {
        "colab": {
          "base_uri": "https://localhost:8080/"
        },
        "id": "fjxxMhOkr1g0",
        "outputId": "debc055f-4a9b-4f61-c752-edd3d4ec12a4"
      },
      "execution_count": null,
      "outputs": [
        {
          "output_type": "stream",
          "name": "stdout",
          "text": [
            "Found 340 images belonging to 2 classes.\n"
          ]
        }
      ]
    },
    {
      "cell_type": "code",
      "source": [
        "scores = modelMy.evaluate(test_generator, steps=test_generator.samples // test_generator.batch_size + 1)\n"
      ],
      "metadata": {
        "colab": {
          "base_uri": "https://localhost:8080/"
        },
        "id": "VHbK5cO7sJXB",
        "outputId": "d7188b96-4eec-4045-e031-725a251e0d84"
      },
      "execution_count": null,
      "outputs": [
        {
          "output_type": "stream",
          "name": "stdout",
          "text": [
            "11/11 [==============================] - 104s 9s/step - loss: 0.0614 - accuracy: 0.9765\n"
          ]
        }
      ]
    },
    {
      "cell_type": "code",
      "source": [
        "import numpy as np\n",
        "import matplotlib.pyplot as plt\n",
        "import seaborn as sns\n",
        "from sklearn.metrics import confusion_matrix\n",
        "\n",
        "# Generate predictions for the test set\n",
        "y_pred = modelMy.predict(test_generator, steps=test_generator.samples // test_generator.batch_size + 1)\n",
        "y_pred_classes = np.argmax(y_pred, axis=1)\n",
        "\n",
        "# Get the true labels for the test set\n",
        "y_true = test_generator.classes\n",
        "\n",
        "# Compute the confusion matrix\n",
        "conf_mat = confusion_matrix(y_true, y_pred_classes)\n",
        "\n",
        "# Plot the confusion matrix as a heatmap\n",
        "fig, ax = plt.subplots(figsize=(8, 8))\n",
        "sns.heatmap(conf_mat, annot=True, cmap='Blues', fmt='d', ax=ax)\n",
        "ax.set_xlabel('Predicted Labels')\n",
        "ax.set_ylabel('True Labels')\n",
        "ax.set_title('Confusion Matrix')\n",
        "ax.xaxis.set_ticklabels([\"Men\", \"Women\"])\n",
        "ax.yaxis.set_ticklabels([\"Men\", \"Women\"])\n",
        "plt.show()"
      ],
      "metadata": {
        "colab": {
          "base_uri": "https://localhost:8080/",
          "height": 735
        },
        "id": "RFFfSDbX1U_z",
        "outputId": "867fad0f-8bea-4e65-9a40-ae8643aa29cc"
      },
      "execution_count": null,
      "outputs": [
        {
          "output_type": "stream",
          "name": "stdout",
          "text": [
            "11/11 [==============================] - 10s 549ms/step\n"
          ]
        },
        {
          "output_type": "display_data",
          "data": {
            "text/plain": [
              "<Figure size 800x800 with 2 Axes>"
            ],
            "image/png": "[encoded data removed]"
          },
          "metadata": {}
        }
      ]
    },
    {
      "cell_type": "code",
      "source": [
        "from sklearn.metrics import classification_report\n",
        "from tensorflow.keras.utils import to_categorical\n",
        "\n",
        "# Define the labels and their corresponding indices\n",
        "labels = [\"Men\", \"Women\"]\n",
        "label_map = {label: i for i, label in enumerate(labels)}\n",
        "\n",
        "y_pred = modelMy.predict(test_generator)\n",
        "y_true = to_categorical(test_generator.labels, num_classes=len(labels))\n",
        "\n",
        "# Convert the predicted and true labels to class indices\n",
        "y_pred_class = y_pred.argmax(axis=1)\n",
        "y_true_class = y_true.argmax(axis=1)\n",
        "\n",
        "# Generate a classification report\n",
        "report = classification_report(y_true_class, y_pred_class, target_names=labels)\n",
        "\n",
        "# Print the classification report\n",
        "print(report)"
      ],
      "metadata": {
        "colab": {
          "base_uri": "https://localhost:8080/"
        },
        "id": "gPtHtttf1zhc",
        "outputId": "14bcaf97-1d5a-4360-f7d0-fdd02d398e6c"
      },
      "execution_count": null,
      "outputs": [
        {
          "output_type": "stream",
          "name": "stdout",
          "text": [
            "11/11 [==============================] - 3s 236ms/step\n",
            "              precision    recall  f1-score   support\n",
            "\n",
            "         Men       0.97      0.98      0.98       170\n",
            "       Women       0.98      0.97      0.98       170\n",
            "\n",
            "    accuracy                           0.98       340\n",
            "   macro avg       0.98      0.98      0.98       340\n",
            "weighted avg       0.98      0.98      0.98       340\n",
            "\n"
          ]
        }
      ]
    },
    {
      "cell_type": "code",
      "source": [
        "from sklearn.metrics import roc_curve, auc\n",
        "import matplotlib.pyplot as plt\n",
        "\n",
        "labels = [\"Men\", \"Women\"]\n",
        "\n",
        "y_pred = modelMy.predict(test_generator)\n",
        "y_true = test_generator.classes\n",
        "\n",
        "# Get the predicted class labels\n",
        "y_pred_class = y_pred.argmax(axis=1)\n",
        "\n",
        "# Calculate the fpr and tpr for each class\n",
        "fpr = dict()\n",
        "tpr = dict()\n",
        "roc_auc = dict()\n",
        "for i in range(len(labels)):\n",
        "    fpr[i], tpr[i], _ = roc_curve(y_true == i, y_pred[:, i])\n",
        "    roc_auc[i] = auc(fpr[i], tpr[i])\n",
        "\n",
        "# Plotting the ROC curve\n",
        "plt.figure()\n",
        "plt.plot([0, 1], [0, 1], color='navy', lw=2, linestyle='--')\n",
        "for i, label in enumerate(labels):\n",
        "    plt.plot(fpr[i], tpr[i], lw=2, label='ROC curve for %s (AUC = %0.2f)' % (label, roc_auc[i]))\n",
        "plt.xlim([0.0, 1.0])\n",
        "plt.ylim([0.0, 1.05])\n",
        "plt.xlabel('False Positive Rate')\n",
        "plt.ylabel('True Positive Rate')\n",
        "plt.title('Receiver Operating Characteristic')\n",
        "plt.legend(loc=\"lower right\")\n",
        "plt.show()"
      ],
      "metadata": {
        "colab": {
          "base_uri": "https://localhost:8080/",
          "height": 489
        },
        "id": "25vDgGVX19mB",
        "outputId": "cd24e302-40ad-4dfa-9a77-1d30f64288e5"
      },
      "execution_count": null,
      "outputs": [
        {
          "output_type": "stream",
          "name": "stdout",
          "text": [
            "11/11 [==============================] - 3s 232ms/step\n"
          ]
        },
        {
          "output_type": "display_data",
          "data": {
            "text/plain": [
              "<Figure size 640x480 with 1 Axes>"
            ],
            "image/png": "[encoded data removed]"
          },
          "metadata": {}
        }
      ]
    },
    {
      "cell_type": "code",
      "source": [
        "modelMy.save('/content/drive/MyDrive/Dataset/gender_classification_model_EfficientNetV2M_Version_01.h5')"
      ],
      "metadata": {
        "id": "ZfJ_akmCsmEa"
      },
      "execution_count": null,
      "outputs": []
    }
  ]
}